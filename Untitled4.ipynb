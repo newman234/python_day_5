{
 "cells": [
  {
   "cell_type": "code",
   "execution_count": 1,
   "id": "621fa5a7",
   "metadata": {},
   "outputs": [],
   "source": [
    "#nested scope and statement"
   ]
  },
  {
   "cell_type": "code",
   "execution_count": 2,
   "id": "b94f9644",
   "metadata": {},
   "outputs": [],
   "source": [
    "name=\"i am global\"\n",
    "def greet():\n",
    "    name=\"sammy\"\n",
    "    def hello():\n",
    "        print(\"hello\"+name)\n",
    "    hello()"
   ]
  },
  {
   "cell_type": "code",
   "execution_count": 3,
   "id": "14221b1c",
   "metadata": {},
   "outputs": [
    {
     "name": "stdout",
     "output_type": "stream",
     "text": [
      "hellosammy\n"
     ]
    }
   ],
   "source": [
    "greet()"
   ]
  },
  {
   "cell_type": "code",
   "execution_count": 4,
   "id": "79ae8f9a",
   "metadata": {},
   "outputs": [
    {
     "data": {
      "text/plain": [
       "'i am global'"
      ]
     },
     "execution_count": 4,
     "metadata": {},
     "output_type": "execute_result"
    }
   ],
   "source": [
    "name"
   ]
  },
  {
   "cell_type": "code",
   "execution_count": 5,
   "id": "8eff573a",
   "metadata": {},
   "outputs": [],
   "source": [
    "#class in python"
   ]
  },
  {
   "cell_type": "code",
   "execution_count": 6,
   "id": "d7bed678",
   "metadata": {},
   "outputs": [],
   "source": [
    "class simple():\n",
    "    pass"
   ]
  },
  {
   "cell_type": "code",
   "execution_count": 7,
   "id": "0372b6a4",
   "metadata": {},
   "outputs": [],
   "source": [
    "my_class=simple()"
   ]
  },
  {
   "cell_type": "code",
   "execution_count": 8,
   "id": "ee939d3f",
   "metadata": {},
   "outputs": [],
   "source": [
    "class dog():\n",
    "    def __init__(self,breed):\n",
    "        self.breed=breed"
   ]
  },
  {
   "cell_type": "code",
   "execution_count": 9,
   "id": "34f5af76",
   "metadata": {},
   "outputs": [],
   "source": [
    "my_dog=dog(\"japan\")"
   ]
  },
  {
   "cell_type": "code",
   "execution_count": 10,
   "id": "6cd69f12",
   "metadata": {},
   "outputs": [
    {
     "data": {
      "text/plain": [
       "'japan'"
      ]
     },
     "execution_count": 10,
     "metadata": {},
     "output_type": "execute_result"
    }
   ],
   "source": [
    "my_dog.breed"
   ]
  },
  {
   "cell_type": "code",
   "execution_count": 11,
   "id": "5a3650d3",
   "metadata": {},
   "outputs": [],
   "source": [
    "class dog1():\n",
    "    spacies=\"manemal\"\n",
    "    def __init__(self,name,breed):\n",
    "        self.name=name\n",
    "        self.breed=breed"
   ]
  },
  {
   "cell_type": "code",
   "execution_count": 12,
   "id": "96c34431",
   "metadata": {},
   "outputs": [],
   "source": [
    "my_dog1=dog1(\"pummy\",\"new_breed\")"
   ]
  },
  {
   "cell_type": "code",
   "execution_count": 13,
   "id": "4c42fdf1",
   "metadata": {},
   "outputs": [
    {
     "data": {
      "text/plain": [
       "'pummy'"
      ]
     },
     "execution_count": 13,
     "metadata": {},
     "output_type": "execute_result"
    }
   ],
   "source": [
    "my_dog1.name"
   ]
  },
  {
   "cell_type": "code",
   "execution_count": 15,
   "id": "4413e54f",
   "metadata": {},
   "outputs": [
    {
     "data": {
      "text/plain": [
       "'new_breed'"
      ]
     },
     "execution_count": 15,
     "metadata": {},
     "output_type": "execute_result"
    }
   ],
   "source": [
    "my_dog1.breed"
   ]
  },
  {
   "cell_type": "code",
   "execution_count": 16,
   "id": "b7e49fce",
   "metadata": {},
   "outputs": [
    {
     "data": {
      "text/plain": [
       "'manemal'"
      ]
     },
     "execution_count": 16,
     "metadata": {},
     "output_type": "execute_result"
    }
   ],
   "source": [
    "my_dog1.spacies"
   ]
  },
  {
   "cell_type": "code",
   "execution_count": 18,
   "id": "ec574b67",
   "metadata": {},
   "outputs": [
    {
     "data": {
      "text/plain": [
       "'manemal'"
      ]
     },
     "execution_count": 18,
     "metadata": {},
     "output_type": "execute_result"
    }
   ],
   "source": [
    "dog1.spacies"
   ]
  },
  {
   "cell_type": "code",
   "execution_count": null,
   "id": "4727d08a",
   "metadata": {},
   "outputs": [],
   "source": [
    "class cat():\n",
    "    spacies=\"meme\"\n",
    "    def __init__(self,name):\n",
    "        self.name=name\n",
    "    def "
   ]
  }
 ],
 "metadata": {
  "kernelspec": {
   "display_name": "Python 3",
   "language": "python",
   "name": "python3"
  },
  "language_info": {
   "codemirror_mode": {
    "name": "ipython",
    "version": 3
   },
   "file_extension": ".py",
   "mimetype": "text/x-python",
   "name": "python",
   "nbconvert_exporter": "python",
   "pygments_lexer": "ipython3",
   "version": "3.8.8"
  }
 },
 "nbformat": 4,
 "nbformat_minor": 5
}
